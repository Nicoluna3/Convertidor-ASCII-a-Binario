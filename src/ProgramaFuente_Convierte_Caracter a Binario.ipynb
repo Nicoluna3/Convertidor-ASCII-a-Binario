{
 "cells": [
  {
   "cell_type": "markdown",
   "id": "208c2094",
   "metadata": {},
   "source": [
    "### PROGRAMA FUENTE (src)"
   ]
  },
  {
   "cell_type": "markdown",
   "id": "d9ffdf22",
   "metadata": {},
   "source": [
    "### Observación: \n",
    "### + Este programa convierte caracteres tanto mayúsculas como minúsculas\n",
    "### + La longitud de la cadena de caracteres no esta limitada en este código pero puede limitarse a un número determinado"
   ]
  },
  {
   "cell_type": "code",
   "execution_count": 1,
   "id": "9dc5a042",
   "metadata": {},
   "outputs": [
    {
     "name": "stdout",
     "output_type": "stream",
     "text": [
      "Para 'H' su valor en Binario es: 1001000\n",
      "Para 'O' su valor en Binario es: 1001111\n",
      "Para 'L' su valor en Binario es: 1001100\n",
      "Para 'A' su valor en Binario es: 1000001\n"
     ]
    }
   ],
   "source": [
    "\n",
    "\n",
    "# Directorio de carcateres alfanuméricos de la Tabla ASCII\n",
    "\n",
    "\n",
    "    \n",
    "tableAscii = Dict(\"A\" => 65, \"B\" => 66, \"C\" => 67, \"D\" => 68, \"E\" => 69, \"F\" => 70, \"G\" => 71,\"H\" => 72, \n",
    "\"I\" => 73, \"J\" => 74, \"K\" => 75, \"L\" => 76, \"M\" => 77, \"N\" => 78,\n",
    "\"O\" => 79, \"P\" => 80, \"Q\" => 81, \"R\" => 82, \"S\" => 83, \"T\" => 84,\"U\" => 85, \n",
    "\"V\" => 86, \"W\" => 87, \"X\" => 88, \"Y\" => 89, \"Z\" => 90, \"a\" => 97, \"b\" => 98, \"c\" => 99, \"d\" => 100, \n",
    "\"e\" => 101, \"f\" => 102, \"g\" => 103, \"h\" => 104, \"i\" => 105, \"j\" => 106, \"k\" => 107, \"l\" => 108, \"m\" => 109, \"n\" => 110,\n",
    "\"o\" => 111, \"p\" => 112, \"q\" => 113, \"r\" => 114, \"s\" => 115, \"t\" => 116,\"u\" => 117, \"v\" => 118, \"w\" => 119, \"x\" => 120, \n",
    "\"y\" => 121, \"z\" => 122)\n",
    "\n",
    "# Esta es la función llamada \"convertDecBinary()\" que convierte un valor en Decimal a un valor en Binario\n",
    "# siguiendo uno de los métodos para hacer esta conversión llamado \"División entre 2\".\n",
    "\n",
    "function convertDecBinary(valorIngresado :: Int)\n",
    "\n",
    "# variable de inicio; llamada binario de tipo string y es vacía\n",
    "    \n",
    "binario_str = \"\"\n",
    "\n",
    "# Ciclo anidado While que va a leer un valor númerico decimal,\n",
    "# lo va a dividir entre 2 y tomará la parte entera del Residuo de la división \n",
    "    \n",
    "while valorIngresado > 1\n",
    "\n",
    "residuo = valorIngresado % 2\n",
    "resultadoTruncado = trunc(Int64, residuo)\n",
    "        \n",
    "#Para ir ordenando los resultados al revés, de acuerdo a como se leen los valores en Binario.\n",
    "        \n",
    "binario_str = string(resultadoTruncado) * binario_str\n",
    "        \n",
    "# división entre 2\n",
    "        \n",
    "valorIngresado = valorIngresado / 2\n",
    "\n",
    "\n",
    "#print(resultadoTruncado) --> con este da un valor Binario al revés\n",
    "        \n",
    "end\n",
    "    \n",
    "   \n",
    "return binario_str == \"\" ? \"0\" : binario_str\n",
    "end\n",
    "\n",
    "# INGRESO DE DATOS\n",
    "# Llamada al Método q convierte Letra a Binario\n",
    "\n",
    "#------------------------------------------------------------\n",
    "\n",
    "dato = [\"H\",\"O\",\"L\",\"A\"]\n",
    "\n",
    "i = 1\n",
    "while i <= length(dato)\n",
    "    datos = dato[i]\n",
    "    representaBinaria = convertDecBinary(tableAscii[dato[i]])\n",
    "    println(\"Para '$datos' su valor en Binario es: $representaBinaria\")\n",
    "    i += 1\n",
    "end\n",
    "\n",
    "# -----------------------------------------------------------\n"
   ]
  }
 ],
 "metadata": {
  "kernelspec": {
   "display_name": "Julia 1.9.1",
   "language": "julia",
   "name": "julia-1.9"
  },
  "language_info": {
   "file_extension": ".jl",
   "mimetype": "application/julia",
   "name": "julia",
   "version": "1.9.1"
  }
 },
 "nbformat": 4,
 "nbformat_minor": 5
}
