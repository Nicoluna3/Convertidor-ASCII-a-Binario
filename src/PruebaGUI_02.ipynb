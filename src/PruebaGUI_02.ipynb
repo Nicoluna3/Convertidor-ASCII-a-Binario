{
 "cells": [
  {
   "cell_type": "code",
   "execution_count": 3,
   "id": "1386a28e",
   "metadata": {},
   "outputs": [
    {
     "name": "stderr",
     "output_type": "stream",
     "text": [
      "\n",
      "(julia.exe:15940): Gtk-WARNING **: 14:50:10.334: Attempting to add a widget with type GtkBox to a GtkWindow, but as a GtkBin subclass a GtkWindow can only contain one widget at a time; it already contains a widget of type GtkBox\n"
     ]
    },
    {
     "ename": "LoadError",
     "evalue": "syntax: unexpected \"end\"",
     "output_type": "error",
     "traceback": [
      "syntax: unexpected \"end\"",
      "",
      "Stacktrace:",
      " [1] top-level scope",
      "   @ In[3]:39"
     ]
    }
   ],
   "source": [
    "# Programa para ACCIONAR BOTÓN\n",
    "\n",
    "using Gtk\n",
    "\n",
    "\n",
    "\n",
    "    \n",
    "win = GtkWindow(\"Mi Primer Box\")\n",
    "vbox = GtkBox(:v)\n",
    "push!(win, vbox)\n",
    "\n",
    "label = GtkLabel(\"Hola Mundo !\")\n",
    "GAccessor.justify(label, Gtk.GConstants.GtkJustification.CENTER)\n",
    "push!(vbox, label)\n",
    "\n",
    "hbox = GtkBox(:h)\n",
    "push!(win, hbox)\n",
    "\n",
    "length(hbox)\n",
    "\n",
    "# Para el boton\n",
    "\n",
    "button = GtkButton(\"Clic Aqui !\")\n",
    "push!(vbox, button)\n",
    "\n",
    "\n",
    "showall(win)\n",
    "\n",
    "set_gtk_property!(vbox, :expand, label, true)\n",
    "\n",
    "# Para accionar etiqueta al dar click\n",
    "id = signal_connect(button, \"button-press-event\") do widget, event\n",
    "    if get_gtk_property(vbox[1], :label, String) == \"Hola Mundo !\"\n",
    "        GAccessor.text(label, \"Hola Chavos !!\")\n",
    "    else\n",
    "        GAccessor.text(label, \"Qué Hongo !\")\n",
    "    end\n",
    "end\n",
    "end\n",
    "\n",
    "\n",
    "\n",
    "while true\n",
    "    println(\"click ENTER para FINALIZAR sesión\")\n",
    "    input = readline()\n",
    "    if input == \"\"\n",
    "        break\n",
    "end\n",
    "end\n"
   ]
  },
  {
   "cell_type": "code",
   "execution_count": 1,
   "id": "7c3120bf",
   "metadata": {},
   "outputs": [
    {
     "ename": "LoadError",
     "evalue": "UndefVarError: `cadena` not defined",
     "output_type": "error",
     "traceback": [
      "UndefVarError: `cadena` not defined",
      "",
      "Stacktrace:",
      " [1] top-level scope",
      "   @ In[1]:1"
     ]
    }
   ],
   "source": [
    "cadena()\n"
   ]
  }
 ],
 "metadata": {
  "kernelspec": {
   "display_name": "Julia 1.9.1",
   "language": "julia",
   "name": "julia-1.9"
  },
  "language_info": {
   "file_extension": ".jl",
   "mimetype": "application/julia",
   "name": "julia",
   "version": "1.9.1"
  }
 },
 "nbformat": 4,
 "nbformat_minor": 5
}
